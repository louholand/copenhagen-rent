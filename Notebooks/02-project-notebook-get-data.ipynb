{
 "cells": [
  {
   "cell_type": "markdown",
   "id": "3589b66b-297b-4d7a-9ed3-7315ace438c9",
   "metadata": {},
   "source": [
    "# Rent in Copenhagen\n",
    "## Data retrieval\n",
    "\n",
    "This notebook is for retrieving data about current apartments and rooms for rent in Copenhagen, using the undocumented API from [Boligportalen](https://www.boligportal.dk/).\n",
    "\n",
    "The data will be used to map the differences in rent for rooms and apartments in Copenhagen's boroughs."
   ]
  },
  {
   "cell_type": "markdown",
   "id": "03bd0e6c-1a65-4139-baa1-fdbc48678ac7",
   "metadata": {},
   "source": [
    "### 1. Initial setup"
   ]
  },
  {
   "cell_type": "code",
   "execution_count": 16,
   "id": "26e3941f-a8db-4b6d-9152-40d569e9d455",
   "metadata": {},
   "outputs": [],
   "source": [
    "import requests\n",
    "import pandas as pd\n",
    "import time\n",
    "from random import randint"
   ]
  },
  {
   "cell_type": "markdown",
   "id": "a4f4dbe3-3034-4768-8c49-f413d34c02b1",
   "metadata": {},
   "source": [
    "### 2. Retrieve data"
   ]
  },
  {
   "cell_type": "markdown",
   "id": "aa23e965-a8a8-42a9-99fd-84677bf49043",
   "metadata": {},
   "source": [
    "Using [this tutorial](https://inspectelement.org/apis.html#tutorial), I've inspected the API from Boligportalen via the browser's developer tools and copied as cURL.\n",
    "\n",
    "Following the tutorial, the next steps are:\n",
    "1. Converting the cURL to Python via curlconverter.com\n",
    "2. Stripping the Python code\n",
    "\n",
    "Then I put that into a function `get_rentals` that gets 18 search results (rentals) with whatever offset is set:"
   ]
  },
  {
   "cell_type": "code",
   "execution_count": 17,
   "id": "cfdc3650-1d36-46f5-8dea-cefbc44d2573",
   "metadata": {},
   "outputs": [],
   "source": [
    "# Convert cURL to Python + Requests using curlconverter.com and strip it\n",
    "# Make it into a function (get_rentals)\n",
    "\n",
    "def get_rentals(offset):\n",
    "    \"\"\"\n",
    "    Get 18 rentals with the offset set.\n",
    "    \"\"\"\n",
    "    headers = {\n",
    "        'Content-Type': 'text/plain;charset=UTF-8',\n",
    "        'Accept': '*/*',\n",
    "        'Accept-Language': 'da',\n",
    "        'User-Agent': 'Mozilla/5.0 (Macintosh; Intel Mac OS X 10_15_7) AppleWebKit/605.1.15 (KHTML, like Gecko) Version/17.5 Safari/605.1.15',\n",
    "    }\n",
    "    \n",
    "    params = {\n",
    "        'offset': offset,\n",
    "    }\n",
    "\n",
    "    \n",
    "    data = '{\"categories\":{\"values\":[\"rental_apartment\",\"rental_room\"]},\"city_level_1\":{\"values\":[\"københavn\"]},\"city_level_2\":{\"values\":null},\"city_level_3\":{\"values\":null},\"rooms\":null,\"min_size_m2\":null,\"max_monthly_rent\":null,\"min_rental_period\":null,\"max_available_from\":\"\",\"company_filter_key\":null,\"company_key\":null,\"street_name\":{\"values\":null},\"social_housing\":null,\"min_lat\":null,\"min_lng\":null,\"max_lat\":null,\"max_lng\":null,\"shareable\":true,\"furnished\":false,\"student_only\":false,\"pet_friendly\":false,\"balcony\":false,\"senior_friendly\":false,\"parking\":false,\"elevator\":false,\"electric_charging_station\":null,\"dishwasher\":null,\"dryer\":null,\"washing_machine\":null,\"newbuild\":null,\"include_units\":true,\"order\":\"DEFAULT\"}'.encode()\n",
    "    \n",
    "    response = requests.post('https://www.boligportal.dk/api/search/list', params=params, headers=headers, data=data)\n",
    "    \n",
    "    try:\n",
    "        return response.json()\n",
    "    except requests.JSONDecodeError:\n",
    "        print(f\"Failed to decode JSON for offset {offset}. Response content: {response.content}\")\n",
    "        return None"
   ]
  },
  {
   "cell_type": "markdown",
   "id": "bf485d42-8562-4a93-8929-eea7e93b112d",
   "metadata": {},
   "source": [
    "#### Get the rest of the rentals\n",
    "\n",
    "Because there is a limit in the API for 18 results, I define a new function `get_all_rentals()` that uses the function from before `get_rentals` and loops through the different 'pages', each with 18 results, until there are no more results, saving all results to a variable.\n"
   ]
  },
  {
   "cell_type": "code",
   "execution_count": 18,
   "id": "453ba0e9-67d0-45b9-8d0f-acd90192ffbe",
   "metadata": {},
   "outputs": [],
   "source": [
    "def get_all_rentals():\n",
    "    \"\"\"\n",
    "    Get all rentals by fetching in batches of 18 results, with delay\n",
    "    \"\"\"\n",
    "    offset = 0\n",
    "    all_rentals = []\n",
    "    \n",
    "    while True:\n",
    "        rentals = get_rentals(offset)\n",
    "        if rentals is None:\n",
    "            print(f\"Encountered an issue while fetching data at offset {offset}. Stopping further retrieval.\")\n",
    "            break\n",
    "        results = rentals.get('results', [])\n",
    "        if not results:\n",
    "            print(\"No more results!\")\n",
    "            break\n",
    "        all_rentals.extend(results)\n",
    "        print(f\"Fetched {offset} to {offset + 18} results\")\n",
    "        offset += 18\n",
    "        time.sleep(randint(1,3))\n",
    "\n",
    "    return all_rentals"
   ]
  },
  {
   "cell_type": "markdown",
   "id": "4ef34dce-9665-47ea-8303-d6e6dc3b2043",
   "metadata": {},
   "source": [
    "#### Wait for it to fetch all results..."
   ]
  },
  {
   "cell_type": "code",
   "execution_count": 19,
   "id": "1908fba3-4e33-4ba0-83bd-2b004b5279ed",
   "metadata": {},
   "outputs": [
    {
     "name": "stdout",
     "output_type": "stream",
     "text": [
      "Fetched 0 to 18 results\n",
      "Fetched 18 to 36 results\n",
      "Fetched 36 to 54 results\n",
      "Fetched 54 to 72 results\n",
      "Fetched 72 to 90 results\n",
      "Fetched 90 to 108 results\n",
      "Fetched 108 to 126 results\n",
      "Fetched 126 to 144 results\n",
      "Fetched 144 to 162 results\n",
      "Fetched 162 to 180 results\n",
      "Fetched 180 to 198 results\n",
      "Fetched 198 to 216 results\n",
      "Fetched 216 to 234 results\n",
      "Fetched 234 to 252 results\n",
      "Fetched 252 to 270 results\n",
      "Fetched 270 to 288 results\n",
      "Fetched 288 to 306 results\n",
      "Fetched 306 to 324 results\n",
      "Fetched 324 to 342 results\n",
      "Fetched 342 to 360 results\n",
      "Fetched 360 to 378 results\n",
      "Fetched 378 to 396 results\n",
      "Fetched 396 to 414 results\n",
      "Fetched 414 to 432 results\n",
      "Fetched 432 to 450 results\n",
      "Fetched 450 to 468 results\n",
      "Fetched 468 to 486 results\n",
      "Fetched 486 to 504 results\n",
      "Fetched 504 to 522 results\n",
      "Fetched 522 to 540 results\n",
      "Fetched 540 to 558 results\n",
      "Fetched 558 to 576 results\n",
      "Fetched 576 to 594 results\n",
      "Fetched 594 to 612 results\n",
      "Fetched 612 to 630 results\n",
      "Fetched 630 to 648 results\n",
      "Fetched 648 to 666 results\n",
      "Fetched 666 to 684 results\n",
      "Fetched 684 to 702 results\n",
      "No more results!\n"
     ]
    }
   ],
   "source": [
    "all_rentals = get_all_rentals()"
   ]
  },
  {
   "cell_type": "markdown",
   "id": "2eaabe1c-5d80-479b-bbf9-6e0377cbb988",
   "metadata": {},
   "source": [
    "### 3. Check the data"
   ]
  },
  {
   "cell_type": "code",
   "execution_count": 20,
   "id": "8785f05e-be1e-4276-a41b-724deb8ba3dc",
   "metadata": {},
   "outputs": [
    {
     "name": "stdout",
     "output_type": "stream",
     "text": [
      "{'is_owner': False, 'is_promoted': False, 'is_open': False, 'is_exposure': False, 'url': '/lejligheder/k%C3%B8benhavn/56m2-2-vaer-id-5184445', 'created': '2021-05-03T16:55:30.755212+00:00', 'advertised_date': '2024-07-21T14:51:34.333669+00:00', 'id': 5184445, 'rentable_id': 5184476, 'city': 'København', 'city_area': 'København Ø', 'street_name': 'Æbeløgade', 'postal_code': '2100', 'description': '', 'category': 'rental_apartment', 'title': 'Lækker, lys indflytningsklar 2-værelses lejlighed i det eftertragtede Klimakvarter på Østerbro med indflytning pr. 01/10/1024', 'rooms': 2.0, 'size_m2': 56.0, 'monthly_rent': 12400.0, 'monthly_rent_currency': 'DKK', 'monthly_rent_extra_costs': 1100.0, 'prepaid_rent': 26000.0, 'deposit': 26000.0, 'deposit_currency': 'DKK', 'location': {'lat': 55.712532, 'lng': 12.561227}, 'open_house': None, 'images': [{'url': 'https://image-lambda.boligportal.dk/30dd82b6d883712fe5a11493f63a1075', 'is_floor_plan': False}, {'url': 'https://image-lambda.boligportal.dk/0395f83d92e88ba8a92caa36a26b3cc4', 'is_floor_plan': False}, {'url': 'https://image-lambda.boligportal.dk/c232de70790d4469329fc12ab40dd940', 'is_floor_plan': False}, {'url': 'https://image-lambda.boligportal.dk/68366328bc7ab967d41bb392313c2625', 'is_floor_plan': False}, {'url': 'https://image-lambda.boligportal.dk/4b19bcd25611175c4ae6080a607511a3', 'is_floor_plan': False}], 'has_video': False, 'formatted_address': None, 'state': 'ACTIVE_APPROVED', 'floor': 2, 'rental_period': 0, 'available_from': '2024-10-01', 'is_contactable_via_message': None, 'other_details': None, 'review_reason': None, 'needs_follow_up': False, 'city_level_1': 'københavn', 'city_level_2': 'københavn ø', 'city_level_3': None, 'upsell_url': '/lejem%C3%A5l/5184476/produkter', 'video_url': '/lejem%C3%A5l/5184476/video', 'digital_showing': True, 'created_draft_contract': False, 'energy_rating': 'D', 'locked_fields': [], 'hide_from_company_search': False, 'interactive_floor_plan_id': None, 'deleted': False, 'social_housing': False, 'is_contacted': False, 'is_newbuild': False, 'ad_phone_number': None}\n"
     ]
    }
   ],
   "source": [
    "# Access the first element\n",
    "\n",
    "if all_rentals:\n",
    "    print(all_rentals[0])"
   ]
  },
  {
   "cell_type": "code",
   "execution_count": 21,
   "id": "cac3b8d8-ea0a-457a-af9f-178aa818ba9f",
   "metadata": {},
   "outputs": [
    {
     "data": {
      "text/plain": [
       "693"
      ]
     },
     "execution_count": 21,
     "metadata": {},
     "output_type": "execute_result"
    }
   ],
   "source": [
    "# Check number of results\n",
    "\n",
    "len(all_rentals)"
   ]
  },
  {
   "cell_type": "code",
   "execution_count": 22,
   "id": "4821e01d-5ca9-45d7-b0aa-24dc628a00da",
   "metadata": {},
   "outputs": [
    {
     "data": {
      "text/plain": [
       "dict_keys(['is_owner', 'is_promoted', 'is_open', 'is_exposure', 'url', 'created', 'advertised_date', 'id', 'rentable_id', 'city', 'city_area', 'street_name', 'postal_code', 'description', 'category', 'title', 'rooms', 'size_m2', 'monthly_rent', 'monthly_rent_currency', 'monthly_rent_extra_costs', 'prepaid_rent', 'deposit', 'deposit_currency', 'location', 'open_house', 'images', 'has_video', 'formatted_address', 'state', 'floor', 'rental_period', 'available_from', 'is_contactable_via_message', 'other_details', 'review_reason', 'needs_follow_up', 'city_level_1', 'city_level_2', 'city_level_3', 'upsell_url', 'video_url', 'digital_showing', 'created_draft_contract', 'energy_rating', 'locked_fields', 'hide_from_company_search', 'interactive_floor_plan_id', 'deleted', 'social_housing', 'is_contacted', 'is_newbuild', 'ad_phone_number'])"
      ]
     },
     "execution_count": 22,
     "metadata": {},
     "output_type": "execute_result"
    }
   ],
   "source": [
    "# Check what keys/column names are in the data\n",
    "\n",
    "all_rentals[0].keys()"
   ]
  },
  {
   "cell_type": "markdown",
   "id": "4a018982-bf37-43cf-8740-b51a006c4c13",
   "metadata": {},
   "source": [
    "##### *Relevant keys*\n",
    "\n",
    "Note to self - these keys may be the ones that are relevant to keep in an analysis. From random entry in key `results` which contains a list of dictionaries:\n",
    "\n",
    "```\n",
    "'url': '/lejligheder/k%C3%B8benhavn/91m2-3-vaer-id-5447305',\n",
    "'created': '2024-07-16T12:29:37.108418+00:00',\n",
    "'advertised_date': '2024-07-16T12:29:37.201699+00:00',\n",
    "'id': 5447305,\n",
    "'rentable_id': 5530637,\n",
    "'city': 'København',\n",
    "'city_area': 'Glostrup',\n",
    "'street_name': 'Grannålen',\n",
    "'postal_code': '2600',\n",
    "'description': '',\n",
    "'category': 'rental_apartment',\n",
    "'title': 'Helt nye lejeboliger i Glostrup! ',\n",
    "'rooms': 3.0,\n",
    "'size_m2': 91.0,\n",
    "'monthly_rent': 13100.0,\n",
    "'monthly_rent_currency': 'DKK',\n",
    "'monthly_rent_extra_costs': 1000.0,\n",
    "'prepaid_rent': 13100.0,\n",
    "'deposit': 39300.0,\n",
    "'deposit_currency': 'DKK',\n",
    "'location': {'lat': 55.682051, 'lng': 12.413595},\n",
    "'formatted_address': None,\n",
    "'floor': 1,\n",
    "'rental_period': 0,\n",
    "'available_from': '2024-08-15',\n",
    "'social_housing': False,\n",
    "'is_newbuild': False,\n",
    "```"
   ]
  },
  {
   "cell_type": "code",
   "execution_count": 23,
   "id": "1c1d5ca7-d294-4223-97fe-ce0ad06d89e4",
   "metadata": {},
   "outputs": [
    {
     "data": {
      "text/plain": [
       "{'is_owner': False,\n",
       " 'is_promoted': False,\n",
       " 'is_open': False,\n",
       " 'is_exposure': False,\n",
       " 'url': '/lejligheder/k%C3%B8benhavn/98m2-3-vaer-id-5101431',\n",
       " 'created': '2020-12-18T20:36:56+00:00',\n",
       " 'advertised_date': '2023-10-02T14:14:35.321960+00:00',\n",
       " 'id': 5101431,\n",
       " 'rentable_id': 5101431,\n",
       " 'city': 'København',\n",
       " 'city_area': 'Frederiksberg',\n",
       " 'street_name': 'Finsensvej',\n",
       " 'postal_code': '2000',\n",
       " 'description': '',\n",
       " 'category': 'rental_apartment',\n",
       " 'title': 'Dejlig nyistandsat 3-værelses stuelejlighed på Frederiksberg til leje. ',\n",
       " 'rooms': 3.0,\n",
       " 'size_m2': 98.0,\n",
       " 'monthly_rent': 18500.0,\n",
       " 'monthly_rent_currency': 'DKK',\n",
       " 'monthly_rent_extra_costs': 0.0,\n",
       " 'prepaid_rent': 0.0,\n",
       " 'deposit': 55500.0,\n",
       " 'deposit_currency': 'DKK',\n",
       " 'location': {'lat': 55.680706, 'lng': 12.51919},\n",
       " 'open_house': None,\n",
       " 'images': [{'url': 'https://image-lambda.boligportal.dk/93b28e1c9835c52a77b7c163224c0bea',\n",
       "   'is_floor_plan': False},\n",
       "  {'url': 'https://image-lambda.boligportal.dk/98f64851274b1d9a20660ce7c275b775',\n",
       "   'is_floor_plan': False},\n",
       "  {'url': 'https://image-lambda.boligportal.dk/3e8cc7556423b38ea39d44a17facbfbf',\n",
       "   'is_floor_plan': False},\n",
       "  {'url': 'https://image-lambda.boligportal.dk/938bbbbff9b143bcc24d89a9c5eab65d',\n",
       "   'is_floor_plan': False},\n",
       "  {'url': 'https://image-lambda.boligportal.dk/50e59febb6a1422e601db2528e7395ec',\n",
       "   'is_floor_plan': False}],\n",
       " 'has_video': False,\n",
       " 'formatted_address': None,\n",
       " 'state': 'ACTIVE_APPROVED',\n",
       " 'floor': 0,\n",
       " 'rental_period': 24,\n",
       " 'available_from': None,\n",
       " 'is_contactable_via_message': None,\n",
       " 'other_details': None,\n",
       " 'review_reason': None,\n",
       " 'needs_follow_up': False,\n",
       " 'city_level_1': 'københavn',\n",
       " 'city_level_2': 'frederiksberg',\n",
       " 'city_level_3': None,\n",
       " 'upsell_url': '/lejem%C3%A5l/5101431/produkter',\n",
       " 'video_url': '/lejem%C3%A5l/5101431/video',\n",
       " 'digital_showing': True,\n",
       " 'created_draft_contract': False,\n",
       " 'energy_rating': 'D',\n",
       " 'locked_fields': [],\n",
       " 'hide_from_company_search': False,\n",
       " 'interactive_floor_plan_id': None,\n",
       " 'deleted': False,\n",
       " 'social_housing': False,\n",
       " 'is_contacted': False,\n",
       " 'is_newbuild': False,\n",
       " 'ad_phone_number': None}"
      ]
     },
     "execution_count": 23,
     "metadata": {},
     "output_type": "execute_result"
    }
   ],
   "source": [
    "# More data checking\n",
    "\n",
    "all_rentals[-10]"
   ]
  },
  {
   "cell_type": "markdown",
   "id": "610adc08-2cba-41f4-a50b-6905e5cf617b",
   "metadata": {},
   "source": [
    "### 4. Turn the data into a DataFrame"
   ]
  },
  {
   "cell_type": "markdown",
   "id": "3338103d-9b9d-4100-8369-2f4c86987258",
   "metadata": {},
   "source": [
    "THIS DATA WAS RETRIEVED FROM THE API **JULY 16, 2024** BETWEEN APPROXIMATELY **16.40 AND 17.00 EST (EDT)**."
   ]
  },
  {
   "cell_type": "code",
   "execution_count": 24,
   "id": "0049e7fd-e0c6-4116-ba56-25bd4934584e",
   "metadata": {},
   "outputs": [],
   "source": [
    "df = pd.DataFrame(all_rentals)"
   ]
  },
  {
   "cell_type": "markdown",
   "id": "6b9c5f9b-94b9-4902-a475-ce55a9f22374",
   "metadata": {},
   "source": [
    "### 5. Check the DataFrame"
   ]
  },
  {
   "cell_type": "code",
   "execution_count": 25,
   "id": "d694f7bd-8d6d-4fba-9d85-fe9ec5a80ba2",
   "metadata": {},
   "outputs": [
    {
     "data": {
      "text/html": [
       "<div>\n",
       "<style scoped>\n",
       "    .dataframe tbody tr th:only-of-type {\n",
       "        vertical-align: middle;\n",
       "    }\n",
       "\n",
       "    .dataframe tbody tr th {\n",
       "        vertical-align: top;\n",
       "    }\n",
       "\n",
       "    .dataframe thead th {\n",
       "        text-align: right;\n",
       "    }\n",
       "</style>\n",
       "<table border=\"1\" class=\"dataframe\">\n",
       "  <thead>\n",
       "    <tr style=\"text-align: right;\">\n",
       "      <th></th>\n",
       "      <th>is_owner</th>\n",
       "      <th>is_promoted</th>\n",
       "      <th>is_open</th>\n",
       "      <th>is_exposure</th>\n",
       "      <th>url</th>\n",
       "      <th>created</th>\n",
       "      <th>advertised_date</th>\n",
       "      <th>id</th>\n",
       "      <th>rentable_id</th>\n",
       "      <th>city</th>\n",
       "      <th>...</th>\n",
       "      <th>energy_rating</th>\n",
       "      <th>locked_fields</th>\n",
       "      <th>hide_from_company_search</th>\n",
       "      <th>interactive_floor_plan_id</th>\n",
       "      <th>deleted</th>\n",
       "      <th>social_housing</th>\n",
       "      <th>is_contacted</th>\n",
       "      <th>is_newbuild</th>\n",
       "      <th>ad_phone_number</th>\n",
       "      <th>video</th>\n",
       "    </tr>\n",
       "  </thead>\n",
       "  <tbody>\n",
       "    <tr>\n",
       "      <th>0</th>\n",
       "      <td>False</td>\n",
       "      <td>False</td>\n",
       "      <td>False</td>\n",
       "      <td>False</td>\n",
       "      <td>/lejligheder/k%C3%B8benhavn/56m2-2-vaer-id-518...</td>\n",
       "      <td>2021-05-03T16:55:30.755212+00:00</td>\n",
       "      <td>2024-07-21T14:51:34.333669+00:00</td>\n",
       "      <td>5184445</td>\n",
       "      <td>5184476</td>\n",
       "      <td>København</td>\n",
       "      <td>...</td>\n",
       "      <td>D</td>\n",
       "      <td>[]</td>\n",
       "      <td>False</td>\n",
       "      <td>None</td>\n",
       "      <td>False</td>\n",
       "      <td>False</td>\n",
       "      <td>False</td>\n",
       "      <td>False</td>\n",
       "      <td>None</td>\n",
       "      <td>NaN</td>\n",
       "    </tr>\n",
       "    <tr>\n",
       "      <th>1</th>\n",
       "      <td>False</td>\n",
       "      <td>False</td>\n",
       "      <td>False</td>\n",
       "      <td>False</td>\n",
       "      <td>/v%C3%A6relser/k%C3%B8benhavn/15m2-1-vaer-id-5...</td>\n",
       "      <td>2023-08-20T09:33:01.517000+00:00</td>\n",
       "      <td>2024-07-21T08:07:09.351245+00:00</td>\n",
       "      <td>5381282</td>\n",
       "      <td>5443346</td>\n",
       "      <td>København</td>\n",
       "      <td>...</td>\n",
       "      <td>None</td>\n",
       "      <td>[]</td>\n",
       "      <td>False</td>\n",
       "      <td>None</td>\n",
       "      <td>False</td>\n",
       "      <td>False</td>\n",
       "      <td>False</td>\n",
       "      <td>False</td>\n",
       "      <td>None</td>\n",
       "      <td>NaN</td>\n",
       "    </tr>\n",
       "    <tr>\n",
       "      <th>2</th>\n",
       "      <td>False</td>\n",
       "      <td>False</td>\n",
       "      <td>False</td>\n",
       "      <td>False</td>\n",
       "      <td>/lejligheder/k%C3%B8benhavn/63m2-3-vaer-id-509...</td>\n",
       "      <td>2020-12-14T13:42:17+00:00</td>\n",
       "      <td>2024-07-21T07:07:35.465890+00:00</td>\n",
       "      <td>5095348</td>\n",
       "      <td>5095348</td>\n",
       "      <td>København</td>\n",
       "      <td>...</td>\n",
       "      <td>A2015</td>\n",
       "      <td>[]</td>\n",
       "      <td>False</td>\n",
       "      <td>None</td>\n",
       "      <td>False</td>\n",
       "      <td>False</td>\n",
       "      <td>False</td>\n",
       "      <td>False</td>\n",
       "      <td>None</td>\n",
       "      <td>NaN</td>\n",
       "    </tr>\n",
       "    <tr>\n",
       "      <th>3</th>\n",
       "      <td>False</td>\n",
       "      <td>False</td>\n",
       "      <td>False</td>\n",
       "      <td>False</td>\n",
       "      <td>/v%C3%A6relser/k%C3%B8benhavn/20m2-1-vaer-id-5...</td>\n",
       "      <td>2021-02-21T12:36:14.132103+00:00</td>\n",
       "      <td>2024-07-20T16:13:59.164021+00:00</td>\n",
       "      <td>5153512</td>\n",
       "      <td>5153517</td>\n",
       "      <td>København</td>\n",
       "      <td>...</td>\n",
       "      <td>C</td>\n",
       "      <td>[]</td>\n",
       "      <td>False</td>\n",
       "      <td>None</td>\n",
       "      <td>False</td>\n",
       "      <td>False</td>\n",
       "      <td>False</td>\n",
       "      <td>False</td>\n",
       "      <td>None</td>\n",
       "      <td>NaN</td>\n",
       "    </tr>\n",
       "    <tr>\n",
       "      <th>4</th>\n",
       "      <td>False</td>\n",
       "      <td>False</td>\n",
       "      <td>False</td>\n",
       "      <td>False</td>\n",
       "      <td>/v%C3%A6relser/k%C3%B8benhavn/12m2-1-vaer-id-5...</td>\n",
       "      <td>2021-11-05T09:17:41.540283+00:00</td>\n",
       "      <td>2024-07-20T08:09:03.604601+00:00</td>\n",
       "      <td>5238627</td>\n",
       "      <td>5249729</td>\n",
       "      <td>København</td>\n",
       "      <td>...</td>\n",
       "      <td>F</td>\n",
       "      <td>[]</td>\n",
       "      <td>False</td>\n",
       "      <td>None</td>\n",
       "      <td>False</td>\n",
       "      <td>False</td>\n",
       "      <td>False</td>\n",
       "      <td>False</td>\n",
       "      <td>None</td>\n",
       "      <td>NaN</td>\n",
       "    </tr>\n",
       "  </tbody>\n",
       "</table>\n",
       "<p>5 rows × 54 columns</p>\n",
       "</div>"
      ],
      "text/plain": [
       "   is_owner  is_promoted  is_open  is_exposure  \\\n",
       "0     False        False    False        False   \n",
       "1     False        False    False        False   \n",
       "2     False        False    False        False   \n",
       "3     False        False    False        False   \n",
       "4     False        False    False        False   \n",
       "\n",
       "                                                 url  \\\n",
       "0  /lejligheder/k%C3%B8benhavn/56m2-2-vaer-id-518...   \n",
       "1  /v%C3%A6relser/k%C3%B8benhavn/15m2-1-vaer-id-5...   \n",
       "2  /lejligheder/k%C3%B8benhavn/63m2-3-vaer-id-509...   \n",
       "3  /v%C3%A6relser/k%C3%B8benhavn/20m2-1-vaer-id-5...   \n",
       "4  /v%C3%A6relser/k%C3%B8benhavn/12m2-1-vaer-id-5...   \n",
       "\n",
       "                            created                   advertised_date  \\\n",
       "0  2021-05-03T16:55:30.755212+00:00  2024-07-21T14:51:34.333669+00:00   \n",
       "1  2023-08-20T09:33:01.517000+00:00  2024-07-21T08:07:09.351245+00:00   \n",
       "2         2020-12-14T13:42:17+00:00  2024-07-21T07:07:35.465890+00:00   \n",
       "3  2021-02-21T12:36:14.132103+00:00  2024-07-20T16:13:59.164021+00:00   \n",
       "4  2021-11-05T09:17:41.540283+00:00  2024-07-20T08:09:03.604601+00:00   \n",
       "\n",
       "        id  rentable_id       city  ... energy_rating locked_fields  \\\n",
       "0  5184445      5184476  København  ...             D            []   \n",
       "1  5381282      5443346  København  ...          None            []   \n",
       "2  5095348      5095348  København  ...         A2015            []   \n",
       "3  5153512      5153517  København  ...             C            []   \n",
       "4  5238627      5249729  København  ...             F            []   \n",
       "\n",
       "  hide_from_company_search interactive_floor_plan_id deleted social_housing  \\\n",
       "0                    False                      None   False          False   \n",
       "1                    False                      None   False          False   \n",
       "2                    False                      None   False          False   \n",
       "3                    False                      None   False          False   \n",
       "4                    False                      None   False          False   \n",
       "\n",
       "   is_contacted  is_newbuild  ad_phone_number video  \n",
       "0         False        False             None   NaN  \n",
       "1         False        False             None   NaN  \n",
       "2         False        False             None   NaN  \n",
       "3         False        False             None   NaN  \n",
       "4         False        False             None   NaN  \n",
       "\n",
       "[5 rows x 54 columns]"
      ]
     },
     "execution_count": 25,
     "metadata": {},
     "output_type": "execute_result"
    }
   ],
   "source": [
    "df.head()"
   ]
  },
  {
   "cell_type": "code",
   "execution_count": 26,
   "id": "bb84f634-0309-4d5f-94dd-44ab7a50966d",
   "metadata": {},
   "outputs": [
    {
     "data": {
      "text/plain": [
       "Index(['is_owner', 'is_promoted', 'is_open', 'is_exposure', 'url', 'created',\n",
       "       'advertised_date', 'id', 'rentable_id', 'city', 'city_area',\n",
       "       'street_name', 'postal_code', 'description', 'category', 'title',\n",
       "       'rooms', 'size_m2', 'monthly_rent', 'monthly_rent_currency',\n",
       "       'monthly_rent_extra_costs', 'prepaid_rent', 'deposit',\n",
       "       'deposit_currency', 'location', 'open_house', 'images', 'has_video',\n",
       "       'formatted_address', 'state', 'floor', 'rental_period',\n",
       "       'available_from', 'is_contactable_via_message', 'other_details',\n",
       "       'review_reason', 'needs_follow_up', 'city_level_1', 'city_level_2',\n",
       "       'city_level_3', 'upsell_url', 'video_url', 'digital_showing',\n",
       "       'created_draft_contract', 'energy_rating', 'locked_fields',\n",
       "       'hide_from_company_search', 'interactive_floor_plan_id', 'deleted',\n",
       "       'social_housing', 'is_contacted', 'is_newbuild', 'ad_phone_number',\n",
       "       'video'],\n",
       "      dtype='object')"
      ]
     },
     "execution_count": 26,
     "metadata": {},
     "output_type": "execute_result"
    }
   ],
   "source": [
    "# Check columns (same as checking keys like before)\n",
    "\n",
    "df.columns"
   ]
  },
  {
   "cell_type": "code",
   "execution_count": 27,
   "id": "05b313a5-6534-4e22-9bc8-b11c8accf916",
   "metadata": {},
   "outputs": [
    {
     "data": {
      "text/plain": [
       "0    {'lat': 55.712532, 'lng': 12.561227}\n",
       "1     {'lat': 55.66544, 'lng': 12.598308}\n",
       "2    {'lat': 55.655677, 'lng': 12.617045}\n",
       "3    {'lat': 55.717242, 'lng': 12.485363}\n",
       "4    {'lat': 55.699834, 'lng': 12.523683}\n",
       "Name: location, dtype: object"
      ]
     },
     "execution_count": 27,
     "metadata": {},
     "output_type": "execute_result"
    }
   ],
   "source": [
    "# Check what the 'location' column looks like\n",
    "\n",
    "df['location'].head()"
   ]
  },
  {
   "cell_type": "markdown",
   "id": "cc6106e7-e8bb-4cdc-8bf7-5cc86a68f794",
   "metadata": {},
   "source": [
    "#### Summary stats"
   ]
  },
  {
   "cell_type": "code",
   "execution_count": 28,
   "id": "27752bdd-e613-41c7-ad9e-c5043aa63073",
   "metadata": {},
   "outputs": [
    {
     "data": {
      "text/html": [
       "<div>\n",
       "<style scoped>\n",
       "    .dataframe tbody tr th:only-of-type {\n",
       "        vertical-align: middle;\n",
       "    }\n",
       "\n",
       "    .dataframe tbody tr th {\n",
       "        vertical-align: top;\n",
       "    }\n",
       "\n",
       "    .dataframe thead th {\n",
       "        text-align: right;\n",
       "    }\n",
       "</style>\n",
       "<table border=\"1\" class=\"dataframe\">\n",
       "  <thead>\n",
       "    <tr style=\"text-align: right;\">\n",
       "      <th></th>\n",
       "      <th>id</th>\n",
       "      <th>rentable_id</th>\n",
       "      <th>rooms</th>\n",
       "      <th>size_m2</th>\n",
       "      <th>monthly_rent</th>\n",
       "      <th>monthly_rent_extra_costs</th>\n",
       "      <th>prepaid_rent</th>\n",
       "      <th>deposit</th>\n",
       "      <th>floor</th>\n",
       "      <th>rental_period</th>\n",
       "    </tr>\n",
       "  </thead>\n",
       "  <tbody>\n",
       "    <tr>\n",
       "      <th>count</th>\n",
       "      <td>6.930000e+02</td>\n",
       "      <td>6.930000e+02</td>\n",
       "      <td>693.000000</td>\n",
       "      <td>693.000000</td>\n",
       "      <td>693.000000</td>\n",
       "      <td>692.000000</td>\n",
       "      <td>690.000000</td>\n",
       "      <td>693.000000</td>\n",
       "      <td>664.000000</td>\n",
       "      <td>693.000000</td>\n",
       "    </tr>\n",
       "    <tr>\n",
       "      <th>mean</th>\n",
       "      <td>5.320845e+06</td>\n",
       "      <td>5.382732e+06</td>\n",
       "      <td>2.792208</td>\n",
       "      <td>79.272987</td>\n",
       "      <td>13349.126320</td>\n",
       "      <td>884.294798</td>\n",
       "      <td>13376.434681</td>\n",
       "      <td>36506.993175</td>\n",
       "      <td>2.530120</td>\n",
       "      <td>1.870130</td>\n",
       "    </tr>\n",
       "    <tr>\n",
       "      <th>std</th>\n",
       "      <td>3.835353e+05</td>\n",
       "      <td>4.018208e+05</td>\n",
       "      <td>1.144273</td>\n",
       "      <td>37.420042</td>\n",
       "      <td>5938.283079</td>\n",
       "      <td>724.214761</td>\n",
       "      <td>11711.321545</td>\n",
       "      <td>19553.676281</td>\n",
       "      <td>1.971669</td>\n",
       "      <td>4.927262</td>\n",
       "    </tr>\n",
       "    <tr>\n",
       "      <th>min</th>\n",
       "      <td>8.698030e+05</td>\n",
       "      <td>8.698030e+05</td>\n",
       "      <td>1.000000</td>\n",
       "      <td>6.000000</td>\n",
       "      <td>2800.000000</td>\n",
       "      <td>0.000000</td>\n",
       "      <td>0.000000</td>\n",
       "      <td>0.000000</td>\n",
       "      <td>-1.000000</td>\n",
       "      <td>0.000000</td>\n",
       "    </tr>\n",
       "    <tr>\n",
       "      <th>25%</th>\n",
       "      <td>5.365630e+06</td>\n",
       "      <td>5.417309e+06</td>\n",
       "      <td>2.000000</td>\n",
       "      <td>60.000000</td>\n",
       "      <td>10600.000000</td>\n",
       "      <td>600.000000</td>\n",
       "      <td>8300.000000</td>\n",
       "      <td>26000.000000</td>\n",
       "      <td>1.000000</td>\n",
       "      <td>0.000000</td>\n",
       "    </tr>\n",
       "    <tr>\n",
       "      <th>50%</th>\n",
       "      <td>5.436077e+06</td>\n",
       "      <td>5.514729e+06</td>\n",
       "      <td>3.000000</td>\n",
       "      <td>85.000000</td>\n",
       "      <td>12500.000000</td>\n",
       "      <td>850.000000</td>\n",
       "      <td>12200.000000</td>\n",
       "      <td>36450.000000</td>\n",
       "      <td>2.000000</td>\n",
       "      <td>0.000000</td>\n",
       "    </tr>\n",
       "    <tr>\n",
       "      <th>75%</th>\n",
       "      <td>5.444055e+06</td>\n",
       "      <td>5.525709e+06</td>\n",
       "      <td>4.000000</td>\n",
       "      <td>99.000000</td>\n",
       "      <td>14850.000000</td>\n",
       "      <td>1050.000000</td>\n",
       "      <td>14500.000000</td>\n",
       "      <td>42300.000000</td>\n",
       "      <td>4.000000</td>\n",
       "      <td>0.000000</td>\n",
       "    </tr>\n",
       "    <tr>\n",
       "      <th>max</th>\n",
       "      <td>5.447846e+06</td>\n",
       "      <td>5.531290e+06</td>\n",
       "      <td>8.000000</td>\n",
       "      <td>338.000000</td>\n",
       "      <td>50000.000000</td>\n",
       "      <td>10000.000000</td>\n",
       "      <td>90000.000000</td>\n",
       "      <td>150000.000000</td>\n",
       "      <td>12.000000</td>\n",
       "      <td>24.000000</td>\n",
       "    </tr>\n",
       "  </tbody>\n",
       "</table>\n",
       "</div>"
      ],
      "text/plain": [
       "                 id   rentable_id       rooms     size_m2  monthly_rent  \\\n",
       "count  6.930000e+02  6.930000e+02  693.000000  693.000000    693.000000   \n",
       "mean   5.320845e+06  5.382732e+06    2.792208   79.272987  13349.126320   \n",
       "std    3.835353e+05  4.018208e+05    1.144273   37.420042   5938.283079   \n",
       "min    8.698030e+05  8.698030e+05    1.000000    6.000000   2800.000000   \n",
       "25%    5.365630e+06  5.417309e+06    2.000000   60.000000  10600.000000   \n",
       "50%    5.436077e+06  5.514729e+06    3.000000   85.000000  12500.000000   \n",
       "75%    5.444055e+06  5.525709e+06    4.000000   99.000000  14850.000000   \n",
       "max    5.447846e+06  5.531290e+06    8.000000  338.000000  50000.000000   \n",
       "\n",
       "       monthly_rent_extra_costs  prepaid_rent        deposit       floor  \\\n",
       "count                692.000000    690.000000     693.000000  664.000000   \n",
       "mean                 884.294798  13376.434681   36506.993175    2.530120   \n",
       "std                  724.214761  11711.321545   19553.676281    1.971669   \n",
       "min                    0.000000      0.000000       0.000000   -1.000000   \n",
       "25%                  600.000000   8300.000000   26000.000000    1.000000   \n",
       "50%                  850.000000  12200.000000   36450.000000    2.000000   \n",
       "75%                 1050.000000  14500.000000   42300.000000    4.000000   \n",
       "max                10000.000000  90000.000000  150000.000000   12.000000   \n",
       "\n",
       "       rental_period  \n",
       "count     693.000000  \n",
       "mean        1.870130  \n",
       "std         4.927262  \n",
       "min         0.000000  \n",
       "25%         0.000000  \n",
       "50%         0.000000  \n",
       "75%         0.000000  \n",
       "max        24.000000  "
      ]
     },
     "execution_count": 28,
     "metadata": {},
     "output_type": "execute_result"
    }
   ],
   "source": [
    "df.describe()"
   ]
  },
  {
   "cell_type": "markdown",
   "id": "f64411c4-9ad7-4282-bb1e-d53f5989ac24",
   "metadata": {},
   "source": [
    "### 6. Save the data to a csv"
   ]
  },
  {
   "cell_type": "code",
   "execution_count": 29,
   "id": "0b7a7dcb-ae91-44d8-b955-17e0377bd35c",
   "metadata": {},
   "outputs": [],
   "source": [
    "df.to_csv('20240721_cph_rentals_shareable.csv', index=False)\n",
    "\n",
    "# THIS DATA WAS RETRIEVED JULY 21, 2024 BETWEEN APPROXIMATELY 14.37 AND 15.00 EST (EDT)"
   ]
  },
  {
   "cell_type": "code",
   "execution_count": null,
   "id": "41d068eb-8299-47c4-81e2-2618065d8a0c",
   "metadata": {},
   "outputs": [],
   "source": []
  }
 ],
 "metadata": {
  "kernelspec": {
   "display_name": "Python 3 (ipykernel)",
   "language": "python",
   "name": "python3"
  },
  "language_info": {
   "codemirror_mode": {
    "name": "ipython",
    "version": 3
   },
   "file_extension": ".py",
   "mimetype": "text/x-python",
   "name": "python",
   "nbconvert_exporter": "python",
   "pygments_lexer": "ipython3",
   "version": "3.11.8"
  }
 },
 "nbformat": 4,
 "nbformat_minor": 5
}
